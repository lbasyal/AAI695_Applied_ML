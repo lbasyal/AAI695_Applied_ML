{
 "cells": [
  {
   "cell_type": "code",
   "execution_count": 10,
   "id": "7cb14c73",
   "metadata": {},
   "outputs": [],
   "source": [
    "#### Lochan Basyal \n",
    "#Applied Machine Learning #Homework_4"
   ]
  },
  {
   "cell_type": "code",
   "execution_count": 11,
   "id": "9fd20da0",
   "metadata": {},
   "outputs": [],
   "source": [
    "import pandas as pd\n",
    "from sklearn.model_selection import train_test_split\n",
    "from sklearn.tree import DecisionTreeClassifier, export_graphviz\n",
    "from sklearn.metrics import classification_report, accuracy_score, confusion_matrix\n",
    "from IPython.display import Image  \n",
    "import pydotplus\n",
    "from sklearn.model_selection import GridSearchCV\n",
    "import warnings\n",
    "import numpy as np\n",
    "import matplotlib.pyplot as plt\n",
    "import warnings\n",
    "warnings.filterwarnings(\"ignore\")\n",
    "from sklearn.neural_network import MLPClassifier\n",
    "from sklearn.metrics import accuracy_score"
   ]
  },
  {
   "cell_type": "markdown",
   "id": "657ab8fe",
   "metadata": {},
   "source": [
    "Step 1: use our “titanic” dataset in homework #3, and split data in the same way you did in homework #3 – \n",
    "80% as training and 20% test sets;\n"
   ]
  },
  {
   "cell_type": "code",
   "execution_count": 12,
   "id": "b0bdfb1d",
   "metadata": {},
   "outputs": [
    {
     "data": {
      "text/html": [
       "<div>\n",
       "<style scoped>\n",
       "    .dataframe tbody tr th:only-of-type {\n",
       "        vertical-align: middle;\n",
       "    }\n",
       "\n",
       "    .dataframe tbody tr th {\n",
       "        vertical-align: top;\n",
       "    }\n",
       "\n",
       "    .dataframe thead th {\n",
       "        text-align: right;\n",
       "    }\n",
       "</style>\n",
       "<table border=\"1\" class=\"dataframe\">\n",
       "  <thead>\n",
       "    <tr style=\"text-align: right;\">\n",
       "      <th></th>\n",
       "      <th>pclass</th>\n",
       "      <th>sex</th>\n",
       "      <th>age</th>\n",
       "      <th>sibsp</th>\n",
       "      <th>survived</th>\n",
       "    </tr>\n",
       "  </thead>\n",
       "  <tbody>\n",
       "    <tr>\n",
       "      <th>0</th>\n",
       "      <td>1</td>\n",
       "      <td>1</td>\n",
       "      <td>29.0000</td>\n",
       "      <td>0</td>\n",
       "      <td>1</td>\n",
       "    </tr>\n",
       "    <tr>\n",
       "      <th>1</th>\n",
       "      <td>1</td>\n",
       "      <td>0</td>\n",
       "      <td>0.9167</td>\n",
       "      <td>1</td>\n",
       "      <td>1</td>\n",
       "    </tr>\n",
       "    <tr>\n",
       "      <th>2</th>\n",
       "      <td>1</td>\n",
       "      <td>1</td>\n",
       "      <td>2.0000</td>\n",
       "      <td>1</td>\n",
       "      <td>0</td>\n",
       "    </tr>\n",
       "    <tr>\n",
       "      <th>3</th>\n",
       "      <td>1</td>\n",
       "      <td>0</td>\n",
       "      <td>30.0000</td>\n",
       "      <td>1</td>\n",
       "      <td>0</td>\n",
       "    </tr>\n",
       "    <tr>\n",
       "      <th>4</th>\n",
       "      <td>1</td>\n",
       "      <td>1</td>\n",
       "      <td>25.0000</td>\n",
       "      <td>1</td>\n",
       "      <td>0</td>\n",
       "    </tr>\n",
       "  </tbody>\n",
       "</table>\n",
       "</div>"
      ],
      "text/plain": [
       "   pclass  sex      age  sibsp  survived\n",
       "0  1       1    29.0000  0      1       \n",
       "1  1       0    0.9167   1      1       \n",
       "2  1       1    2.0000   1      0       \n",
       "3  1       0    30.0000  1      0       \n",
       "4  1       1    25.0000  1      0       "
      ]
     },
     "execution_count": 12,
     "metadata": {},
     "output_type": "execute_result"
    }
   ],
   "source": [
    "#Standardizing values \n",
    "df = pd.read_csv('Titanic.csv')\n",
    "df = df[['pclass', 'sex', 'age','sibsp','survived']] \n",
    "df['pclass'] = df['pclass'].map({'1st':1,'2nd':2,'3rd':3})\n",
    "df['sex'] = df['sex'].map({'male':0,'female':1})\n",
    "df['age'].fillna((df['age'].mean()),inplace=True)\n",
    "df = df.dropna()\n",
    "df.head()"
   ]
  },
  {
   "cell_type": "code",
   "execution_count": 13,
   "id": "e505f76c",
   "metadata": {},
   "outputs": [],
   "source": [
    "#Data Split\n",
    "X = df.drop('survived',axis=1)\n",
    "y = df['survived']\n",
    "X_train, X_test, y_train, y_test = train_test_split(X, y, test_size=0.2)"
   ]
  },
  {
   "cell_type": "markdown",
   "id": "13500be5",
   "metadata": {},
   "source": [
    "Step 2: Fit a neural network using independent variables ‘pclass + sex + age + sibsp’ and dependent variable ‘survived’. Fill in n/a attributes with the average of the same attributes from other training examples. Use 2 hidden layers and set the activation functions for both the hidden and output layer to be the sigmoid function. Set “solver” parameter as either SGD (stochastic gradient descend) or Adam (similar to SGD but optimized performance with mini batches). You can adjust parameter “alpha” for regularization (to control overfitting) and other parameters such as “learning rate” and “momentum” as needed."
   ]
  },
  {
   "cell_type": "code",
   "execution_count": 14,
   "id": "8e755888",
   "metadata": {},
   "outputs": [
    {
     "data": {
      "text/plain": [
       "0.7938931297709924"
      ]
     },
     "execution_count": 14,
     "metadata": {},
     "output_type": "execute_result"
    }
   ],
   "source": [
    "#STEP 2:  10 neurons in each hidden layer\n",
    "classifier = MLPClassifier(solver='adam',hidden_layer_sizes=(10,10),activation='logistic',learning_rate='constant',\n",
    "                           learning_rate_init=0.01,alpha=0.0001, momentum=0.4)\n",
    "classifier = classifier.fit(X_train, y_train)\n",
    "y_pred = classifier.predict(X_test)\n",
    "accuracy_score(y_test, y_pred)"
   ]
  },
  {
   "cell_type": "markdown",
   "id": "357cc1a6",
   "metadata": {},
   "source": [
    "Step 3: Check the performance of the model with out-of- sample accuracy, defined as out-of-sample percent survivors correctly predicted (on test set)\n",
    "out-of-sample percent fatalities correctly predicted (on test set)\n"
   ]
  },
  {
   "cell_type": "code",
   "execution_count": 15,
   "id": "bbe09457",
   "metadata": {},
   "outputs": [
    {
     "name": "stdout",
     "output_type": "stream",
     "text": [
      "out‐of‐sample percent survivors correctly predicted (on testing set) : 57.94%\n",
      "\n",
      "out-of‐sample percent fatalities correctly predicted (on testing set) : 94.19%\n",
      "\n"
     ]
    }
   ],
   "source": [
    "#for testing set\n",
    "conf_matrix = confusion_matrix(y_test, y_pred)\n",
    "TN = conf_matrix[0][0]\n",
    "FN = conf_matrix[1][0]\n",
    "TP = conf_matrix[1][1]\n",
    "FP = conf_matrix[0][1]\n",
    "sensitivity_test = TP/(TP+FN)\n",
    "specificity_test = TN/(FP+TN)\n",
    "print(\"out‐of‐sample percent survivors correctly predicted (on testing set) : {0:.2f}%\\n\".format(sensitivity_test*100))\n",
    "print(\"out-of‐sample percent fatalities correctly predicted (on testing set) : {0:.2f}%\\n\".format(specificity_test*100))"
   ]
  },
  {
   "cell_type": "markdown",
   "id": "2980edd1",
   "metadata": {},
   "source": [
    "Please try two different network structures (i.e., number of neurons at each hidden layer) and show their respective accuracy."
   ]
  },
  {
   "cell_type": "code",
   "execution_count": 16,
   "id": "7d666aae",
   "metadata": {},
   "outputs": [
    {
     "data": {
      "text/plain": [
       "0.7977099236641222"
      ]
     },
     "execution_count": 16,
     "metadata": {},
     "output_type": "execute_result"
    }
   ],
   "source": [
    "#WITH 50 Neurons in each hidden layer\n",
    "classifier = MLPClassifier(solver='adam',hidden_layer_sizes=(50,50),activation='logistic',learning_rate='constant',\n",
    "                           learning_rate_init=0.1,alpha=0.0001, momentum=0.4)\n",
    "classifier = classifier.fit(X_train, y_train)\n",
    "\n",
    "y_pred = classifier.predict(X_test)\n",
    "\n",
    "accuracy_score(y_test, y_pred)"
   ]
  },
  {
   "cell_type": "code",
   "execution_count": 17,
   "id": "36a6bd3d",
   "metadata": {
    "scrolled": false
   },
   "outputs": [
    {
     "name": "stdout",
     "output_type": "stream",
     "text": [
      "out‐of‐sample percent survivors correctly predicted (on testing set) : 55.14%\n",
      "\n",
      "out-of‐sample percent fatalities correctly predicted (on testing set) : 96.77%\n",
      "\n"
     ]
    }
   ],
   "source": [
    "#for testing set\n",
    "conf_matrix = confusion_matrix(y_test, y_pred)\n",
    "TN = conf_matrix[0][0]\n",
    "FN = conf_matrix[1][0]\n",
    "TP = conf_matrix[1][1]\n",
    "FP = conf_matrix[0][1]\n",
    "sensitivity_test = TP/(TP+FN)\n",
    "specificity_test = TN/(FP+TN)\n",
    "print(\"out‐of‐sample percent survivors correctly predicted (on testing set) : {0:.2f}%\\n\".format(sensitivity_test*100))\n",
    "print(\"out-of‐sample percent fatalities correctly predicted (on testing set) : {0:.2f}%\\n\".format(specificity_test*100))"
   ]
  },
  {
   "cell_type": "markdown",
   "id": "0b57f813",
   "metadata": {},
   "source": [
    "Step 4: Compare the out-of-sample accuracy (as defined in step 3) with the random forest obtained in homework #3. (You can either use a table or plot the results of the two algorithms in one figure). Explain any difference in accuracy."
   ]
  },
  {
   "cell_type": "code",
   "execution_count": 18,
   "id": "aa074f5d",
   "metadata": {
    "scrolled": true
   },
   "outputs": [
    {
     "data": {
      "text/html": [
       "<div>\n",
       "<style scoped>\n",
       "    .dataframe tbody tr th:only-of-type {\n",
       "        vertical-align: middle;\n",
       "    }\n",
       "\n",
       "    .dataframe tbody tr th {\n",
       "        vertical-align: top;\n",
       "    }\n",
       "\n",
       "    .dataframe thead th {\n",
       "        text-align: right;\n",
       "    }\n",
       "</style>\n",
       "<table border=\"1\" class=\"dataframe\">\n",
       "  <thead>\n",
       "    <tr style=\"text-align: right;\">\n",
       "      <th></th>\n",
       "      <th>Parameter</th>\n",
       "      <th>Random Forest</th>\n",
       "      <th>10 Neurons</th>\n",
       "      <th>50 Neurons</th>\n",
       "    </tr>\n",
       "  </thead>\n",
       "  <tbody>\n",
       "    <tr>\n",
       "      <th>0</th>\n",
       "      <td>out‐of‐sample percent survivors correctly predicted (on testing set)</td>\n",
       "      <td>73.52%</td>\n",
       "      <td>57.94%</td>\n",
       "      <td>55.14%</td>\n",
       "    </tr>\n",
       "    <tr>\n",
       "      <th>1</th>\n",
       "      <td>out-of‐sample percent fatalities correctly predicted (on testing set)</td>\n",
       "      <td>84.375%</td>\n",
       "      <td>94.19%</td>\n",
       "      <td>96.77%</td>\n",
       "    </tr>\n",
       "  </tbody>\n",
       "</table>\n",
       "</div>"
      ],
      "text/plain": [
       "                                                               Parameter  \\\n",
       "0  out‐of‐sample percent survivors correctly predicted (on testing set)    \n",
       "1  out-of‐sample percent fatalities correctly predicted (on testing set)   \n",
       "\n",
       "  Random Forest 10 Neurons 50 Neurons  \n",
       "0  73.52%        57.94%     55.14%     \n",
       "1  84.375%       94.19%     96.77%     "
      ]
     },
     "execution_count": 18,
     "metadata": {},
     "output_type": "execute_result"
    }
   ],
   "source": [
    "df = pd.DataFrame(columns=['Parameter', 'Random Forest', '10 Neurons','50 Neurons'])\n",
    "\n",
    "df = df.append({'Parameter': 'out‐of‐sample percent survivors correctly predicted (on testing set)', 'Random Forest': '73.52%', '10 Neurons': '57.94%','50 Neurons':'55.14%'}, ignore_index=True)\n",
    "df = df.append({'Parameter': 'out-of‐sample percent fatalities correctly predicted (on testing set)', 'Random Forest': '84.375%', '10 Neurons': '94.19%','50 Neurons':'96.77%'}, ignore_index=True)\n",
    "pd.set_option('display.max_colwidth', -1)\n",
    "df"
   ]
  },
  {
   "cell_type": "markdown",
   "id": "06ea8e53",
   "metadata": {},
   "source": [
    "From the above table, it can be seen that the out-of-sample percent survivors correctly predicted (on testing set) is higher in Random Forest. However, the percentage fatalities correctly predicted on testing set is greater in Neural Network. \n",
    "\n",
    "For the case of random forest, I took these data from my previous Homework#3 (Which I did again for finding max_leaf_nodes accurately and I found the value of 7, then I further used this value for finding the accuracy of pruned tree and randomforest.)\n"
   ]
  },
  {
   "cell_type": "code",
   "execution_count": null,
   "id": "31ce614e",
   "metadata": {},
   "outputs": [],
   "source": []
  },
  {
   "cell_type": "code",
   "execution_count": null,
   "id": "7b060787",
   "metadata": {},
   "outputs": [],
   "source": []
  }
 ],
 "metadata": {
  "kernelspec": {
   "display_name": "Python 3 (ipykernel)",
   "language": "python",
   "name": "python3"
  },
  "language_info": {
   "codemirror_mode": {
    "name": "ipython",
    "version": 3
   },
   "file_extension": ".py",
   "mimetype": "text/x-python",
   "name": "python",
   "nbconvert_exporter": "python",
   "pygments_lexer": "ipython3",
   "version": "3.9.12"
  }
 },
 "nbformat": 4,
 "nbformat_minor": 5
}
